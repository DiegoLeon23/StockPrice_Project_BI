{
 "cells": [
  {
   "cell_type": "markdown",
   "id": "258efd16",
   "metadata": {},
   "source": [
    "## Yahoo Finance Scraping"
   ]
  },
  {
   "cell_type": "code",
   "execution_count": 1,
   "id": "d24c93b6",
   "metadata": {},
   "outputs": [],
   "source": [
    "# import Dependencies\n",
    "import pandas as pd\n",
    "import numpy as np\n",
    "from splinter import Browser\n",
    "from bs4 import BeautifulSoup as bs\n",
    "from datetime import datetime as dt\n",
    "import requests\n",
    "import json\n",
    "import re\n",
    "import datetime as dt\n",
    "from splinter import Browser\n",
    "import os\n",
    "import time\n",
    "from selenium import webdriver"
   ]
  },
  {
   "cell_type": "code",
   "execution_count": 2,
   "id": "2feb5d00",
   "metadata": {
    "scrolled": true
   },
   "outputs": [],
   "source": [
    "# set up path and bsoup browser driver\n",
    "# executable_path = {\"executable_path\": \"chromedriver\"}\n",
    "# browser = Browser(\"chrome\", **executable_path, headless=False)\n",
    "# Initiate headless driver for deployment\n",
    "executable_path = {\"executable_path\": \"chromedriver\"}\n",
    "browser = Browser(\"chrome\", **executable_path, headless=False)"
   ]
  },
  {
   "cell_type": "code",
   "execution_count": 3,
   "id": "1d73808f",
   "metadata": {},
   "outputs": [],
   "source": [
    "# Build query Url and List of Stocks ticker\n",
    "yahoo_url = \"https://finance.yahoo.com/quote/\"\n",
    "# List of Stocks ticker\n",
    "# twitterNames = [\"CitizensBank\", \"MorganStanley\",\"CMEGroup\",\"jpmorgan\",\"GoldmanSachs\",\"PayPal\",\"TD_Canada\",\"BMO\",\"scotiabank\",\"usbank\",\"IBKR\",\"AmericanExpress\"]\n",
    "tickers = [\"A\",\"AMZN\",\"DIS\",\"NFLX\",\"TSLA\"]\n",
    "# tickers = [\"CFG\",\"MS\",\"CME\",\"JPM\",\"GS\",\"PYPL\",\"TD\",\"BMO\",\"BNS\",\"BRK-A\",\"USB\",\"AXP\"]\n",
    "# tickers = [\"IBM\"]"
   ]
  },
  {
   "cell_type": "code",
   "execution_count": 4,
   "id": "fbfd2250",
   "metadata": {},
   "outputs": [],
   "source": [
    "# create and initialize list \n",
    "company_name_list = []\n",
    "company_desc_list = []\n",
    "company_tel_list = []\n",
    "company_addr_list = []\n",
    "key_execs_n_list = []\n",
    "key_execs_t_list = []\n",
    "url_list = []"
   ]
  },
  {
   "cell_type": "code",
   "execution_count": 12,
   "id": "29d84a23",
   "metadata": {},
   "outputs": [],
   "source": [
    "for ticker in tickers:\n",
    "    try:\n",
    "        #Visit Yahoo finance profile page\n",
    "        url2 = yahoo_url + ticker + '/profile?p=' + ticker\n",
    "        #print(url2)\n",
    "        browser.visit(url2)\n",
    "        #Scrape Financial Data into Soup\n",
    "        html = browser.html\n",
    "        soup = bs(html, \"html.parser\")\n",
    "\n",
    "        profile1 = soup.find('p', class_=\"D(ib) W(47.727%) Pend(40px)\")\n",
    "        #company_addr = profile1.contents[1] + profile1.contents[5] \n",
    "        #company_addr_list.append(company_addr)\n",
    "        #print(company_addr)\n",
    "        #type(data)\n",
    "        company_name = soup.find(\"h3\", class_=\"Fz(m) Mb(10px)\").text\n",
    "        company_name_list.append(company_name)\n",
    "        company_desc = soup.find('p', class_=\"Mt(15px) Lh(1.6)\").text\n",
    "        company_desc_list.append(company_desc)\n",
    "        #print(company_desc)\n",
    "        key_execs_data = soup.find('table', class_='W(100%)').find('tbody').find_all('span')\n",
    "        #print(key_execs_data[0])\n",
    "        key_execs_name = key_execs_data[0].contents[1]\n",
    "        key_execs_title = key_execs_data[1].contents[1]\n",
    "        key_execs_n_list.append(key_execs_name)\n",
    "        key_execs_t_list.append(key_execs_title)\n",
    "        profile = soup.find('p', class_=\"D(ib) W(47.727%) Pend(40px)\").find_all('a')\n",
    "        company_tel = profile[0].text\n",
    "        company_tel_list.append(company_tel)\n",
    "        url = profile[1].text\n",
    "        url_list.append(url)\n",
    "        time.sleep(3)\n",
    "        \n",
    "    except IndexError as e:\n",
    "        pass\n",
    "    except AttributeError as e:\n",
    "        pass"
   ]
  },
  {
   "cell_type": "code",
   "execution_count": 13,
   "id": "50cc889a",
   "metadata": {},
   "outputs": [
    {
     "name": "stdout",
     "output_type": "stream",
     "text": [
      "[]\n"
     ]
    }
   ],
   "source": [
    "# convert telephone number to Float\n",
    "new_tel_list = []\n",
    "for tel in company_tel_list:\n",
    "    try:\n",
    "        new_tel = tel.replace('-', '')\n",
    "        new_tel_list.append(new_tel)\n",
    "    except ValueError:\n",
    "        pass\n",
    "company_tel_list = new_tel_list\n",
    "print(company_tel_list)"
   ]
  },
  {
   "cell_type": "code",
   "execution_count": 15,
   "id": "efbc22e8",
   "metadata": {},
   "outputs": [
    {
     "data": {
      "text/html": [
       "<div>\n",
       "<style scoped>\n",
       "    .dataframe tbody tr th:only-of-type {\n",
       "        vertical-align: middle;\n",
       "    }\n",
       "\n",
       "    .dataframe tbody tr th {\n",
       "        vertical-align: top;\n",
       "    }\n",
       "\n",
       "    .dataframe thead th {\n",
       "        text-align: right;\n",
       "    }\n",
       "</style>\n",
       "<table border=\"1\" class=\"dataframe\">\n",
       "  <thead>\n",
       "    <tr style=\"text-align: right;\">\n",
       "      <th></th>\n",
       "      <th>Ticker</th>\n",
       "      <th>Company_Name</th>\n",
       "      <th>Description</th>\n",
       "    </tr>\n",
       "  </thead>\n",
       "  <tbody>\n",
       "    <tr>\n",
       "      <th>0</th>\n",
       "      <td>A</td>\n",
       "      <td>Agilent Technologies, Inc.</td>\n",
       "      <td>Agilent Technologies, Inc. provides applicatio...</td>\n",
       "    </tr>\n",
       "    <tr>\n",
       "      <th>1</th>\n",
       "      <td>AMZN</td>\n",
       "      <td>Amazon.com, Inc.</td>\n",
       "      <td>Amazon.com, Inc. engages in the retail sale of...</td>\n",
       "    </tr>\n",
       "    <tr>\n",
       "      <th>2</th>\n",
       "      <td>DIS</td>\n",
       "      <td>The Walt Disney Company</td>\n",
       "      <td>The Walt Disney Company, together with its sub...</td>\n",
       "    </tr>\n",
       "    <tr>\n",
       "      <th>3</th>\n",
       "      <td>NFLX</td>\n",
       "      <td>Netflix, Inc.</td>\n",
       "      <td>Netflix, Inc. provides entertainment services....</td>\n",
       "    </tr>\n",
       "    <tr>\n",
       "      <th>4</th>\n",
       "      <td>TSLA</td>\n",
       "      <td>Tesla, Inc.</td>\n",
       "      <td>Tesla, Inc. designs, develops, manufactures, l...</td>\n",
       "    </tr>\n",
       "    <tr>\n",
       "      <th>5</th>\n",
       "      <td>None</td>\n",
       "      <td>Agilent Technologies, Inc.</td>\n",
       "      <td>Agilent Technologies, Inc. provides applicatio...</td>\n",
       "    </tr>\n",
       "    <tr>\n",
       "      <th>6</th>\n",
       "      <td>None</td>\n",
       "      <td>Amazon.com, Inc.</td>\n",
       "      <td>Amazon.com, Inc. engages in the retail sale of...</td>\n",
       "    </tr>\n",
       "    <tr>\n",
       "      <th>7</th>\n",
       "      <td>None</td>\n",
       "      <td>The Walt Disney Company</td>\n",
       "      <td>The Walt Disney Company, together with its sub...</td>\n",
       "    </tr>\n",
       "    <tr>\n",
       "      <th>8</th>\n",
       "      <td>None</td>\n",
       "      <td>Netflix, Inc.</td>\n",
       "      <td>Netflix, Inc. provides entertainment services....</td>\n",
       "    </tr>\n",
       "    <tr>\n",
       "      <th>9</th>\n",
       "      <td>None</td>\n",
       "      <td>Tesla, Inc.</td>\n",
       "      <td>Tesla, Inc. designs, develops, manufactures, l...</td>\n",
       "    </tr>\n",
       "  </tbody>\n",
       "</table>\n",
       "</div>"
      ],
      "text/plain": [
       "  Ticker                Company_Name  \\\n",
       "0      A  Agilent Technologies, Inc.   \n",
       "1   AMZN            Amazon.com, Inc.   \n",
       "2    DIS     The Walt Disney Company   \n",
       "3   NFLX               Netflix, Inc.   \n",
       "4   TSLA                 Tesla, Inc.   \n",
       "5   None  Agilent Technologies, Inc.   \n",
       "6   None            Amazon.com, Inc.   \n",
       "7   None     The Walt Disney Company   \n",
       "8   None               Netflix, Inc.   \n",
       "9   None                 Tesla, Inc.   \n",
       "\n",
       "                                         Description  \n",
       "0  Agilent Technologies, Inc. provides applicatio...  \n",
       "1  Amazon.com, Inc. engages in the retail sale of...  \n",
       "2  The Walt Disney Company, together with its sub...  \n",
       "3  Netflix, Inc. provides entertainment services....  \n",
       "4  Tesla, Inc. designs, develops, manufactures, l...  \n",
       "5  Agilent Technologies, Inc. provides applicatio...  \n",
       "6  Amazon.com, Inc. engages in the retail sale of...  \n",
       "7  The Walt Disney Company, together with its sub...  \n",
       "8  Netflix, Inc. provides entertainment services....  \n",
       "9  Tesla, Inc. designs, develops, manufactures, l...  "
      ]
     },
     "execution_count": 15,
     "metadata": {},
     "output_type": "execute_result"
    }
   ],
   "source": [
    "# Create Profile dataframe\n",
    "data_dic = {'Ticker':tickers, 'Company_Name':company_name_list, 'Description':company_desc_list}\n",
    "profile_df = pd.DataFrame.from_dict(data_dic, orient='index')\n",
    "profile_df = profile_df.transpose()\n",
    "profile_df"
   ]
  },
  {
   "cell_type": "code",
   "execution_count": 16,
   "id": "39b2dfdc",
   "metadata": {},
   "outputs": [],
   "source": [
    "profile_df.to_csv('data/description_ticker.csv')"
   ]
  },
  {
   "cell_type": "code",
   "execution_count": null,
   "id": "42365df9",
   "metadata": {},
   "outputs": [],
   "source": []
  }
 ],
 "metadata": {
  "kernelspec": {
   "display_name": "Python 3",
   "language": "python",
   "name": "python3"
  },
  "language_info": {
   "codemirror_mode": {
    "name": "ipython",
    "version": 3
   },
   "file_extension": ".py",
   "mimetype": "text/x-python",
   "name": "python",
   "nbconvert_exporter": "python",
   "pygments_lexer": "ipython3",
   "version": "3.8.8"
  }
 },
 "nbformat": 4,
 "nbformat_minor": 5
}
