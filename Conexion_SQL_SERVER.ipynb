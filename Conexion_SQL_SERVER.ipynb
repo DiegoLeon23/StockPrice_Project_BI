{
 "cells": [
  {
   "cell_type": "code",
   "execution_count": 8,
   "id": "15b4051c",
   "metadata": {},
   "outputs": [
    {
     "name": "stdout",
     "output_type": "stream",
     "text": [
      "Conexion exitosa\n",
      "None\n",
      "Conexion finalizada\n"
     ]
    }
   ],
   "source": [
    "import pyodbc\n",
    "import pandas as pd\n",
    "\n",
    "try:\n",
    "    conn = pyodbc.connect('DRIVER={SQL SERVER};SERVER=DESKTOP-7F3VUIC;DATABASE=BI_STOCK_PRICE;UID=SA;PWD=DO72LN61')\n",
    "    print('Conexion exitosa')\n",
    "    cursor=conn.cursor()\n",
    "    cursor.execute(\"SELECT * FROM ticker_prediction\")\n",
    "    row=cursor.fetchone()\n",
    "    print(row)\n",
    "except Exception as ex:\n",
    "    print(ex)\n",
    "finally:\n",
    "    conn.close()\n",
    "    print(\"Conexion finalizada\")"
   ]
  },
  {
   "cell_type": "code",
   "execution_count": null,
   "id": "8c41c30f",
   "metadata": {},
   "outputs": [],
   "source": []
  }
 ],
 "metadata": {
  "kernelspec": {
   "display_name": "Python 3",
   "language": "python",
   "name": "python3"
  },
  "language_info": {
   "codemirror_mode": {
    "name": "ipython",
    "version": 3
   },
   "file_extension": ".py",
   "mimetype": "text/x-python",
   "name": "python",
   "nbconvert_exporter": "python",
   "pygments_lexer": "ipython3",
   "version": "3.8.8"
  }
 },
 "nbformat": 4,
 "nbformat_minor": 5
}
