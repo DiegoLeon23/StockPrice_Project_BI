{
  "nbformat": 4,
  "nbformat_minor": 0,
  "metadata": {
    "colab": {
      "name": "Random Forest Regressor.ipynb",
      "provenance": []
    },
    "kernelspec": {
      "name": "python3",
      "display_name": "Python 3"
    },
    "language_info": {
      "name": "python"
    }
  },
  "cells": [
    {
      "cell_type": "markdown",
      "source": [
        "# Random Forest Regressor"
      ],
      "metadata": {
        "id": "eIgtAwIhfklm"
      }
    },
    {
      "cell_type": "markdown",
      "source": [
        "Importar librerías básicas"
      ],
      "metadata": {
        "id": "xXx2TyUYfqK-"
      }
    },
    {
      "cell_type": "code",
      "execution_count": null,
      "metadata": {
        "id": "UkUg2jIYEePD"
      },
      "outputs": [],
      "source": [
        "import time\n",
        "import datetime\n",
        "import pandas as pd\n",
        "import numpy as np\n",
        "import math\n",
        "import matplotlib.pyplot as plt "
      ]
    },
    {
      "cell_type": "markdown",
      "source": [
        "Obtener datos de Yahoo finance"
      ],
      "metadata": {
        "id": "ZzbyTHsUfxYT"
      }
    },
    {
      "cell_type": "code",
      "source": [
        "ticker='DIS'\n",
        "period1 = int(time.mktime(datetime.datetime(2015, 1, 1, 0, 0).timetuple()))\n",
        "period2 = int(time.mktime(datetime.datetime.now().timetuple()))\n",
        "interval = '1d' # 1d, 1m\n",
        "query_string = f'https://query1.finance.yahoo.com/v7/finance/download/{ticker}?period1={period1}&period2={period2}&interval={interval}&events=history&includeAdjustedClose=true'\n",
        "df_dis = pd.read_csv(query_string)"
      ],
      "metadata": {
        "id": "A_QjLPeCFAMT"
      },
      "execution_count": null,
      "outputs": []
    },
    {
      "cell_type": "code",
      "source": [
        "df_dis['symbol']='DIS'\n",
        "df_dis"
      ],
      "metadata": {
        "colab": {
          "base_uri": "https://localhost:8080/",
          "height": 424
        },
        "id": "-4qgWzKQFXRD",
        "outputId": "597242c1-2156-4326-fef4-fbc8f75378b7"
      },
      "execution_count": null,
      "outputs": [
        {
          "output_type": "execute_result",
          "data": {
            "text/html": [
              "\n",
              "  <div id=\"df-add95836-afca-4cda-af31-a167c0d44dc3\">\n",
              "    <div class=\"colab-df-container\">\n",
              "      <div>\n",
              "<style scoped>\n",
              "    .dataframe tbody tr th:only-of-type {\n",
              "        vertical-align: middle;\n",
              "    }\n",
              "\n",
              "    .dataframe tbody tr th {\n",
              "        vertical-align: top;\n",
              "    }\n",
              "\n",
              "    .dataframe thead th {\n",
              "        text-align: right;\n",
              "    }\n",
              "</style>\n",
              "<table border=\"1\" class=\"dataframe\">\n",
              "  <thead>\n",
              "    <tr style=\"text-align: right;\">\n",
              "      <th></th>\n",
              "      <th>Date</th>\n",
              "      <th>Open</th>\n",
              "      <th>High</th>\n",
              "      <th>Low</th>\n",
              "      <th>Close</th>\n",
              "      <th>Adj Close</th>\n",
              "      <th>Volume</th>\n",
              "      <th>symbol</th>\n",
              "    </tr>\n",
              "  </thead>\n",
              "  <tbody>\n",
              "    <tr>\n",
              "      <th>0</th>\n",
              "      <td>2015-01-02</td>\n",
              "      <td>94.910004</td>\n",
              "      <td>95.279999</td>\n",
              "      <td>92.849998</td>\n",
              "      <td>93.750000</td>\n",
              "      <td>87.376259</td>\n",
              "      <td>5865400</td>\n",
              "      <td>DIS</td>\n",
              "    </tr>\n",
              "    <tr>\n",
              "      <th>1</th>\n",
              "      <td>2015-01-05</td>\n",
              "      <td>93.279999</td>\n",
              "      <td>93.349998</td>\n",
              "      <td>91.779999</td>\n",
              "      <td>92.379997</td>\n",
              "      <td>86.099388</td>\n",
              "      <td>7789400</td>\n",
              "      <td>DIS</td>\n",
              "    </tr>\n",
              "    <tr>\n",
              "      <th>2</th>\n",
              "      <td>2015-01-06</td>\n",
              "      <td>92.570000</td>\n",
              "      <td>93.190002</td>\n",
              "      <td>91.160004</td>\n",
              "      <td>91.889999</td>\n",
              "      <td>85.642715</td>\n",
              "      <td>6793100</td>\n",
              "      <td>DIS</td>\n",
              "    </tr>\n",
              "    <tr>\n",
              "      <th>3</th>\n",
              "      <td>2015-01-07</td>\n",
              "      <td>92.720001</td>\n",
              "      <td>93.150002</td>\n",
              "      <td>92.099998</td>\n",
              "      <td>92.830002</td>\n",
              "      <td>86.518799</td>\n",
              "      <td>6589500</td>\n",
              "      <td>DIS</td>\n",
              "    </tr>\n",
              "    <tr>\n",
              "      <th>4</th>\n",
              "      <td>2015-01-08</td>\n",
              "      <td>93.870003</td>\n",
              "      <td>94.300003</td>\n",
              "      <td>93.559998</td>\n",
              "      <td>93.790001</td>\n",
              "      <td>87.413536</td>\n",
              "      <td>7579400</td>\n",
              "      <td>DIS</td>\n",
              "    </tr>\n",
              "    <tr>\n",
              "      <th>...</th>\n",
              "      <td>...</td>\n",
              "      <td>...</td>\n",
              "      <td>...</td>\n",
              "      <td>...</td>\n",
              "      <td>...</td>\n",
              "      <td>...</td>\n",
              "      <td>...</td>\n",
              "      <td>...</td>\n",
              "    </tr>\n",
              "    <tr>\n",
              "      <th>1775</th>\n",
              "      <td>2022-01-20</td>\n",
              "      <td>150.910004</td>\n",
              "      <td>152.660004</td>\n",
              "      <td>147.149994</td>\n",
              "      <td>147.619995</td>\n",
              "      <td>147.619995</td>\n",
              "      <td>11760400</td>\n",
              "      <td>DIS</td>\n",
              "    </tr>\n",
              "    <tr>\n",
              "      <th>1776</th>\n",
              "      <td>2022-01-21</td>\n",
              "      <td>141.229996</td>\n",
              "      <td>141.869995</td>\n",
              "      <td>136.630005</td>\n",
              "      <td>137.380005</td>\n",
              "      <td>137.380005</td>\n",
              "      <td>34457000</td>\n",
              "      <td>DIS</td>\n",
              "    </tr>\n",
              "    <tr>\n",
              "      <th>1777</th>\n",
              "      <td>2022-01-24</td>\n",
              "      <td>134.820007</td>\n",
              "      <td>137.679993</td>\n",
              "      <td>129.259995</td>\n",
              "      <td>137.460007</td>\n",
              "      <td>137.460007</td>\n",
              "      <td>31523800</td>\n",
              "      <td>DIS</td>\n",
              "    </tr>\n",
              "    <tr>\n",
              "      <th>1778</th>\n",
              "      <td>2022-01-25</td>\n",
              "      <td>135.289993</td>\n",
              "      <td>137.750000</td>\n",
              "      <td>132.380005</td>\n",
              "      <td>136.509995</td>\n",
              "      <td>136.509995</td>\n",
              "      <td>14680500</td>\n",
              "      <td>DIS</td>\n",
              "    </tr>\n",
              "    <tr>\n",
              "      <th>1779</th>\n",
              "      <td>2022-01-26</td>\n",
              "      <td>137.707001</td>\n",
              "      <td>138.190002</td>\n",
              "      <td>136.294998</td>\n",
              "      <td>137.309998</td>\n",
              "      <td>137.309998</td>\n",
              "      <td>5147305</td>\n",
              "      <td>DIS</td>\n",
              "    </tr>\n",
              "  </tbody>\n",
              "</table>\n",
              "<p>1780 rows × 8 columns</p>\n",
              "</div>\n",
              "      <button class=\"colab-df-convert\" onclick=\"convertToInteractive('df-add95836-afca-4cda-af31-a167c0d44dc3')\"\n",
              "              title=\"Convert this dataframe to an interactive table.\"\n",
              "              style=\"display:none;\">\n",
              "        \n",
              "  <svg xmlns=\"http://www.w3.org/2000/svg\" height=\"24px\"viewBox=\"0 0 24 24\"\n",
              "       width=\"24px\">\n",
              "    <path d=\"M0 0h24v24H0V0z\" fill=\"none\"/>\n",
              "    <path d=\"M18.56 5.44l.94 2.06.94-2.06 2.06-.94-2.06-.94-.94-2.06-.94 2.06-2.06.94zm-11 1L8.5 8.5l.94-2.06 2.06-.94-2.06-.94L8.5 2.5l-.94 2.06-2.06.94zm10 10l.94 2.06.94-2.06 2.06-.94-2.06-.94-.94-2.06-.94 2.06-2.06.94z\"/><path d=\"M17.41 7.96l-1.37-1.37c-.4-.4-.92-.59-1.43-.59-.52 0-1.04.2-1.43.59L10.3 9.45l-7.72 7.72c-.78.78-.78 2.05 0 2.83L4 21.41c.39.39.9.59 1.41.59.51 0 1.02-.2 1.41-.59l7.78-7.78 2.81-2.81c.8-.78.8-2.07 0-2.86zM5.41 20L4 18.59l7.72-7.72 1.47 1.35L5.41 20z\"/>\n",
              "  </svg>\n",
              "      </button>\n",
              "      \n",
              "  <style>\n",
              "    .colab-df-container {\n",
              "      display:flex;\n",
              "      flex-wrap:wrap;\n",
              "      gap: 12px;\n",
              "    }\n",
              "\n",
              "    .colab-df-convert {\n",
              "      background-color: #E8F0FE;\n",
              "      border: none;\n",
              "      border-radius: 50%;\n",
              "      cursor: pointer;\n",
              "      display: none;\n",
              "      fill: #1967D2;\n",
              "      height: 32px;\n",
              "      padding: 0 0 0 0;\n",
              "      width: 32px;\n",
              "    }\n",
              "\n",
              "    .colab-df-convert:hover {\n",
              "      background-color: #E2EBFA;\n",
              "      box-shadow: 0px 1px 2px rgba(60, 64, 67, 0.3), 0px 1px 3px 1px rgba(60, 64, 67, 0.15);\n",
              "      fill: #174EA6;\n",
              "    }\n",
              "\n",
              "    [theme=dark] .colab-df-convert {\n",
              "      background-color: #3B4455;\n",
              "      fill: #D2E3FC;\n",
              "    }\n",
              "\n",
              "    [theme=dark] .colab-df-convert:hover {\n",
              "      background-color: #434B5C;\n",
              "      box-shadow: 0px 1px 3px 1px rgba(0, 0, 0, 0.15);\n",
              "      filter: drop-shadow(0px 1px 2px rgba(0, 0, 0, 0.3));\n",
              "      fill: #FFFFFF;\n",
              "    }\n",
              "  </style>\n",
              "\n",
              "      <script>\n",
              "        const buttonEl =\n",
              "          document.querySelector('#df-add95836-afca-4cda-af31-a167c0d44dc3 button.colab-df-convert');\n",
              "        buttonEl.style.display =\n",
              "          google.colab.kernel.accessAllowed ? 'block' : 'none';\n",
              "\n",
              "        async function convertToInteractive(key) {\n",
              "          const element = document.querySelector('#df-add95836-afca-4cda-af31-a167c0d44dc3');\n",
              "          const dataTable =\n",
              "            await google.colab.kernel.invokeFunction('convertToInteractive',\n",
              "                                                     [key], {});\n",
              "          if (!dataTable) return;\n",
              "\n",
              "          const docLinkHtml = 'Like what you see? Visit the ' +\n",
              "            '<a target=\"_blank\" href=https://colab.research.google.com/notebooks/data_table.ipynb>data table notebook</a>'\n",
              "            + ' to learn more about interactive tables.';\n",
              "          element.innerHTML = '';\n",
              "          dataTable['output_type'] = 'display_data';\n",
              "          await google.colab.output.renderOutput(dataTable, element);\n",
              "          const docLink = document.createElement('div');\n",
              "          docLink.innerHTML = docLinkHtml;\n",
              "          element.appendChild(docLink);\n",
              "        }\n",
              "      </script>\n",
              "    </div>\n",
              "  </div>\n",
              "  "
            ],
            "text/plain": [
              "            Date        Open        High  ...   Adj Close    Volume  symbol\n",
              "0     2015-01-02   94.910004   95.279999  ...   87.376259   5865400     DIS\n",
              "1     2015-01-05   93.279999   93.349998  ...   86.099388   7789400     DIS\n",
              "2     2015-01-06   92.570000   93.190002  ...   85.642715   6793100     DIS\n",
              "3     2015-01-07   92.720001   93.150002  ...   86.518799   6589500     DIS\n",
              "4     2015-01-08   93.870003   94.300003  ...   87.413536   7579400     DIS\n",
              "...          ...         ...         ...  ...         ...       ...     ...\n",
              "1775  2022-01-20  150.910004  152.660004  ...  147.619995  11760400     DIS\n",
              "1776  2022-01-21  141.229996  141.869995  ...  137.380005  34457000     DIS\n",
              "1777  2022-01-24  134.820007  137.679993  ...  137.460007  31523800     DIS\n",
              "1778  2022-01-25  135.289993  137.750000  ...  136.509995  14680500     DIS\n",
              "1779  2022-01-26  137.707001  138.190002  ...  137.309998   5147305     DIS\n",
              "\n",
              "[1780 rows x 8 columns]"
            ]
          },
          "metadata": {},
          "execution_count": 3
        }
      ]
    },
    {
      "cell_type": "code",
      "source": [
        "#Establecer el índice como fecha\n",
        "df_dis['Date'] = pd.to_datetime(df_dis.Date,format='%Y-%m-%d')\n",
        "df_dis.index = df_dis['Date']\n",
        "\n",
        "#Realizar plot\n",
        "plt.figure(figsize=(16,8))\n",
        "plt.plot(df_dis['Close'], label='Precio de Cierre Historico')"
      ],
      "metadata": {
        "colab": {
          "base_uri": "https://localhost:8080/",
          "height": 500
        },
        "id": "enrChgd9Fh1Y",
        "outputId": "1c0123d4-18fe-403d-a6c8-25f836531127"
      },
      "execution_count": null,
      "outputs": [
        {
          "output_type": "execute_result",
          "data": {
            "text/plain": [
              "[<matplotlib.lines.Line2D at 0x7efeb2ae5e90>]"
            ]
          },
          "metadata": {},
          "execution_count": 4
        },
        {
          "output_type": "display_data",
          "data": {
            "image/png": "[encoded data removed]",
            "text/plain": [
              "<Figure size 1152x576 with 1 Axes>"
            ]
          },
          "metadata": {
            "needs_background": "light"
          }
        }
      ]
    },
    {
      "cell_type": "code",
      "source": [
        "#Guardar en un dataframe los datos de la columna Close\n",
        "df=df_dis[['Close']]\n",
        "df.tail(4)"
      ],
      "metadata": {
        "colab": {
          "base_uri": "https://localhost:8080/",
          "height": 206
        },
        "id": "AyJGGl_FG-dy",
        "outputId": "5e7c1823-fcd1-44b5-8971-4d94065ab94f"
      },
      "execution_count": null,
      "outputs": [
        {
          "output_type": "execute_result",
          "data": {
            "text/html": [
              "\n",
              "  <div id=\"df-a567430f-12f9-455d-ab40-3a5894b33811\">\n",
              "    <div class=\"colab-df-container\">\n",
              "      <div>\n",
              "<style scoped>\n",
              "    .dataframe tbody tr th:only-of-type {\n",
              "        vertical-align: middle;\n",
              "    }\n",
              "\n",
              "    .dataframe tbody tr th {\n",
              "        vertical-align: top;\n",
              "    }\n",
              "\n",
              "    .dataframe thead th {\n",
              "        text-align: right;\n",
              "    }\n",
              "</style>\n",
              "<table border=\"1\" class=\"dataframe\">\n",
              "  <thead>\n",
              "    <tr style=\"text-align: right;\">\n",
              "      <th></th>\n",
              "      <th>Close</th>\n",
              "    </tr>\n",
              "    <tr>\n",
              "      <th>Date</th>\n",
              "      <th></th>\n",
              "    </tr>\n",
              "  </thead>\n",
              "  <tbody>\n",
              "    <tr>\n",
              "      <th>2022-01-21</th>\n",
              "      <td>137.380005</td>\n",
              "    </tr>\n",
              "    <tr>\n",
              "      <th>2022-01-24</th>\n",
              "      <td>137.460007</td>\n",
              "    </tr>\n",
              "    <tr>\n",
              "      <th>2022-01-25</th>\n",
              "      <td>136.509995</td>\n",
              "    </tr>\n",
              "    <tr>\n",
              "      <th>2022-01-26</th>\n",
              "      <td>137.309998</td>\n",
              "    </tr>\n",
              "  </tbody>\n",
              "</table>\n",
              "</div>\n",
              "      <button class=\"colab-df-convert\" onclick=\"convertToInteractive('df-a567430f-12f9-455d-ab40-3a5894b33811')\"\n",
              "              title=\"Convert this dataframe to an interactive table.\"\n",
              "              style=\"display:none;\">\n",
              "        \n",
              "  <svg xmlns=\"http://www.w3.org/2000/svg\" height=\"24px\"viewBox=\"0 0 24 24\"\n",
              "       width=\"24px\">\n",
              "    <path d=\"M0 0h24v24H0V0z\" fill=\"none\"/>\n",
              "    <path d=\"M18.56 5.44l.94 2.06.94-2.06 2.06-.94-2.06-.94-.94-2.06-.94 2.06-2.06.94zm-11 1L8.5 8.5l.94-2.06 2.06-.94-2.06-.94L8.5 2.5l-.94 2.06-2.06.94zm10 10l.94 2.06.94-2.06 2.06-.94-2.06-.94-.94-2.06-.94 2.06-2.06.94z\"/><path d=\"M17.41 7.96l-1.37-1.37c-.4-.4-.92-.59-1.43-.59-.52 0-1.04.2-1.43.59L10.3 9.45l-7.72 7.72c-.78.78-.78 2.05 0 2.83L4 21.41c.39.39.9.59 1.41.59.51 0 1.02-.2 1.41-.59l7.78-7.78 2.81-2.81c.8-.78.8-2.07 0-2.86zM5.41 20L4 18.59l7.72-7.72 1.47 1.35L5.41 20z\"/>\n",
              "  </svg>\n",
              "      </button>\n",
              "      \n",
              "  <style>\n",
              "    .colab-df-container {\n",
              "      display:flex;\n",
              "      flex-wrap:wrap;\n",
              "      gap: 12px;\n",
              "    }\n",
              "\n",
              "    .colab-df-convert {\n",
              "      background-color: #E8F0FE;\n",
              "      border: none;\n",
              "      border-radius: 50%;\n",
              "      cursor: pointer;\n",
              "      display: none;\n",
              "      fill: #1967D2;\n",
              "      height: 32px;\n",
              "      padding: 0 0 0 0;\n",
              "      width: 32px;\n",
              "    }\n",
              "\n",
              "    .colab-df-convert:hover {\n",
              "      background-color: #E2EBFA;\n",
              "      box-shadow: 0px 1px 2px rgba(60, 64, 67, 0.3), 0px 1px 3px 1px rgba(60, 64, 67, 0.15);\n",
              "      fill: #174EA6;\n",
              "    }\n",
              "\n",
              "    [theme=dark] .colab-df-convert {\n",
              "      background-color: #3B4455;\n",
              "      fill: #D2E3FC;\n",
              "    }\n",
              "\n",
              "    [theme=dark] .colab-df-convert:hover {\n",
              "      background-color: #434B5C;\n",
              "      box-shadow: 0px 1px 3px 1px rgba(0, 0, 0, 0.15);\n",
              "      filter: drop-shadow(0px 1px 2px rgba(0, 0, 0, 0.3));\n",
              "      fill: #FFFFFF;\n",
              "    }\n",
              "  </style>\n",
              "\n",
              "      <script>\n",
              "        const buttonEl =\n",
              "          document.querySelector('#df-a567430f-12f9-455d-ab40-3a5894b33811 button.colab-df-convert');\n",
              "        buttonEl.style.display =\n",
              "          google.colab.kernel.accessAllowed ? 'block' : 'none';\n",
              "\n",
              "        async function convertToInteractive(key) {\n",
              "          const element = document.querySelector('#df-a567430f-12f9-455d-ab40-3a5894b33811');\n",
              "          const dataTable =\n",
              "            await google.colab.kernel.invokeFunction('convertToInteractive',\n",
              "                                                     [key], {});\n",
              "          if (!dataTable) return;\n",
              "\n",
              "          const docLinkHtml = 'Like what you see? Visit the ' +\n",
              "            '<a target=\"_blank\" href=https://colab.research.google.com/notebooks/data_table.ipynb>data table notebook</a>'\n",
              "            + ' to learn more about interactive tables.';\n",
              "          element.innerHTML = '';\n",
              "          dataTable['output_type'] = 'display_data';\n",
              "          await google.colab.output.renderOutput(dataTable, element);\n",
              "          const docLink = document.createElement('div');\n",
              "          docLink.innerHTML = docLinkHtml;\n",
              "          element.appendChild(docLink);\n",
              "        }\n",
              "      </script>\n",
              "    </div>\n",
              "  </div>\n",
              "  "
            ],
            "text/plain": [
              "                 Close\n",
              "Date                  \n",
              "2022-01-21  137.380005\n",
              "2022-01-24  137.460007\n",
              "2022-01-25  136.509995\n",
              "2022-01-26  137.309998"
            ]
          },
          "metadata": {},
          "execution_count": 5
        }
      ]
    },
    {
      "cell_type": "markdown",
      "source": [
        "Definir la variable predictora"
      ],
      "metadata": {
        "id": "9K78vEq6gBv-"
      }
    },
    {
      "cell_type": "code",
      "source": [
        "#Crear una variable para predecir 'x' días en el futuro\n",
        "future_days=100\n",
        "#Crear una nueva columna (objetivo) desplazada 'x' unidades/días hacia arriba\n",
        "df['Prediction']=df[['Close']].shift(-future_days)\n",
        "df.tail(4)"
      ],
      "metadata": {
        "colab": {
          "base_uri": "https://localhost:8080/",
          "height": 310
        },
        "id": "mGQjAmi-Hsev",
        "outputId": "f388b2eb-e4c0-4dd6-84b9-ae38bb05d6c4"
      },
      "execution_count": null,
      "outputs": [
        {
          "output_type": "stream",
          "name": "stderr",
          "text": [
            "/usr/local/lib/python3.7/dist-packages/ipykernel_launcher.py:4: SettingWithCopyWarning: \n",
            "A value is trying to be set on a copy of a slice from a DataFrame.\n",
            "Try using .loc[row_indexer,col_indexer] = value instead\n",
            "\n",
            "See the caveats in the documentation: https://pandas.pydata.org/pandas-docs/stable/user_guide/indexing.html#returning-a-view-versus-a-copy\n",
            "  after removing the cwd from sys.path.\n"
          ]
        },
        {
          "output_type": "execute_result",
          "data": {
            "text/html": [
              "\n",
              "  <div id=\"df-464903b3-1ae3-4328-9927-97e60774f187\">\n",
              "    <div class=\"colab-df-container\">\n",
              "      <div>\n",
              "<style scoped>\n",
              "    .dataframe tbody tr th:only-of-type {\n",
              "        vertical-align: middle;\n",
              "    }\n",
              "\n",
              "    .dataframe tbody tr th {\n",
              "        vertical-align: top;\n",
              "    }\n",
              "\n",
              "    .dataframe thead th {\n",
              "        text-align: right;\n",
              "    }\n",
              "</style>\n",
              "<table border=\"1\" class=\"dataframe\">\n",
              "  <thead>\n",
              "    <tr style=\"text-align: right;\">\n",
              "      <th></th>\n",
              "      <th>Close</th>\n",
              "      <th>Prediction</th>\n",
              "    </tr>\n",
              "    <tr>\n",
              "      <th>Date</th>\n",
              "      <th></th>\n",
              "      <th></th>\n",
              "    </tr>\n",
              "  </thead>\n",
              "  <tbody>\n",
              "    <tr>\n",
              "      <th>2022-01-21</th>\n",
              "      <td>137.380005</td>\n",
              "      <td>NaN</td>\n",
              "    </tr>\n",
              "    <tr>\n",
              "      <th>2022-01-24</th>\n",
              "      <td>137.460007</td>\n",
              "      <td>NaN</td>\n",
              "    </tr>\n",
              "    <tr>\n",
              "      <th>2022-01-25</th>\n",
              "      <td>136.509995</td>\n",
              "      <td>NaN</td>\n",
              "    </tr>\n",
              "    <tr>\n",
              "      <th>2022-01-26</th>\n",
              "      <td>137.309998</td>\n",
              "      <td>NaN</td>\n",
              "    </tr>\n",
              "  </tbody>\n",
              "</table>\n",
              "</div>\n",
              "      <button class=\"colab-df-convert\" onclick=\"convertToInteractive('df-464903b3-1ae3-4328-9927-97e60774f187')\"\n",
              "              title=\"Convert this dataframe to an interactive table.\"\n",
              "              style=\"display:none;\">\n",
              "        \n",
              "  <svg xmlns=\"http://www.w3.org/2000/svg\" height=\"24px\"viewBox=\"0 0 24 24\"\n",
              "       width=\"24px\">\n",
              "    <path d=\"M0 0h24v24H0V0z\" fill=\"none\"/>\n",
              "    <path d=\"M18.56 5.44l.94 2.06.94-2.06 2.06-.94-2.06-.94-.94-2.06-.94 2.06-2.06.94zm-11 1L8.5 8.5l.94-2.06 2.06-.94-2.06-.94L8.5 2.5l-.94 2.06-2.06.94zm10 10l.94 2.06.94-2.06 2.06-.94-2.06-.94-.94-2.06-.94 2.06-2.06.94z\"/><path d=\"M17.41 7.96l-1.37-1.37c-.4-.4-.92-.59-1.43-.59-.52 0-1.04.2-1.43.59L10.3 9.45l-7.72 7.72c-.78.78-.78 2.05 0 2.83L4 21.41c.39.39.9.59 1.41.59.51 0 1.02-.2 1.41-.59l7.78-7.78 2.81-2.81c.8-.78.8-2.07 0-2.86zM5.41 20L4 18.59l7.72-7.72 1.47 1.35L5.41 20z\"/>\n",
              "  </svg>\n",
              "      </button>\n",
              "      \n",
              "  <style>\n",
              "    .colab-df-container {\n",
              "      display:flex;\n",
              "      flex-wrap:wrap;\n",
              "      gap: 12px;\n",
              "    }\n",
              "\n",
              "    .colab-df-convert {\n",
              "      background-color: #E8F0FE;\n",
              "      border: none;\n",
              "      border-radius: 50%;\n",
              "      cursor: pointer;\n",
              "      display: none;\n",
              "      fill: #1967D2;\n",
              "      height: 32px;\n",
              "      padding: 0 0 0 0;\n",
              "      width: 32px;\n",
              "    }\n",
              "\n",
              "    .colab-df-convert:hover {\n",
              "      background-color: #E2EBFA;\n",
              "      box-shadow: 0px 1px 2px rgba(60, 64, 67, 0.3), 0px 1px 3px 1px rgba(60, 64, 67, 0.15);\n",
              "      fill: #174EA6;\n",
              "    }\n",
              "\n",
              "    [theme=dark] .colab-df-convert {\n",
              "      background-color: #3B4455;\n",
              "      fill: #D2E3FC;\n",
              "    }\n",
              "\n",
              "    [theme=dark] .colab-df-convert:hover {\n",
              "      background-color: #434B5C;\n",
              "      box-shadow: 0px 1px 3px 1px rgba(0, 0, 0, 0.15);\n",
              "      filter: drop-shadow(0px 1px 2px rgba(0, 0, 0, 0.3));\n",
              "      fill: #FFFFFF;\n",
              "    }\n",
              "  </style>\n",
              "\n",
              "      <script>\n",
              "        const buttonEl =\n",
              "          document.querySelector('#df-464903b3-1ae3-4328-9927-97e60774f187 button.colab-df-convert');\n",
              "        buttonEl.style.display =\n",
              "          google.colab.kernel.accessAllowed ? 'block' : 'none';\n",
              "\n",
              "        async function convertToInteractive(key) {\n",
              "          const element = document.querySelector('#df-464903b3-1ae3-4328-9927-97e60774f187');\n",
              "          const dataTable =\n",
              "            await google.colab.kernel.invokeFunction('convertToInteractive',\n",
              "                                                     [key], {});\n",
              "          if (!dataTable) return;\n",
              "\n",
              "          const docLinkHtml = 'Like what you see? Visit the ' +\n",
              "            '<a target=\"_blank\" href=https://colab.research.google.com/notebooks/data_table.ipynb>data table notebook</a>'\n",
              "            + ' to learn more about interactive tables.';\n",
              "          element.innerHTML = '';\n",
              "          dataTable['output_type'] = 'display_data';\n",
              "          await google.colab.output.renderOutput(dataTable, element);\n",
              "          const docLink = document.createElement('div');\n",
              "          docLink.innerHTML = docLinkHtml;\n",
              "          element.appendChild(docLink);\n",
              "        }\n",
              "      </script>\n",
              "    </div>\n",
              "  </div>\n",
              "  "
            ],
            "text/plain": [
              "                 Close  Prediction\n",
              "Date                              \n",
              "2022-01-21  137.380005         NaN\n",
              "2022-01-24  137.460007         NaN\n",
              "2022-01-25  136.509995         NaN\n",
              "2022-01-26  137.309998         NaN"
            ]
          },
          "metadata": {},
          "execution_count": 6
        }
      ]
    },
    {
      "cell_type": "code",
      "source": [
        "# Cree el conjunto de datos de características (x) y conviértalo en un numpy_array y elimine las últimas 'x' filas/días\n",
        "X= np.array(df.drop(['Prediction'],1))[:-future_days]\n",
        "print(X)"
      ],
      "metadata": {
        "colab": {
          "base_uri": "https://localhost:8080/"
        },
        "id": "e8t6RI0YIBxx",
        "outputId": "a436fec8-20a6-423e-cd3a-cb80be727581"
      },
      "execution_count": null,
      "outputs": [
        {
          "output_type": "stream",
          "name": "stdout",
          "text": [
            "[[ 93.75    ]\n",
            " [ 92.379997]\n",
            " [ 91.889999]\n",
            " ...\n",
            " [181.300003]\n",
            " [183.479996]\n",
            " [181.860001]]\n"
          ]
        }
      ]
    },
    {
      "cell_type": "code",
      "source": [
        "#Cree el servidor de datos de destino (y) en una matriz numpy y obtenga todos los valores taret excepto las filas\n",
        "y = np.array(df['Prediction'])[:-future_days]\n",
        "print(y)"
      ],
      "metadata": {
        "colab": {
          "base_uri": "https://localhost:8080/"
        },
        "id": "v8JxUrfyIJJG",
        "outputId": "79036d02-b176-4cfc-ec65-8ffbc5aa600e"
      },
      "execution_count": null,
      "outputs": [
        {
          "output_type": "stream",
          "name": "stdout",
          "text": [
            "[110.529999 110.370003 110.959999 ... 137.460007 136.509995 137.309998]\n"
          ]
        }
      ]
    },
    {
      "cell_type": "markdown",
      "source": [
        "Particionar los datos"
      ],
      "metadata": {
        "id": "NzgtFkkPgLOR"
      }
    },
    {
      "cell_type": "code",
      "source": [
        "#Dividir los datos en 75 % de entrenamiento y 25 % de prueba\n",
        "from sklearn.model_selection import train_test_split\n",
        "x_train,x_test, y_train, y_test = train_test_split(X,y,test_size=0.25)"
      ],
      "metadata": {
        "id": "uDGy3fnuIPnP"
      },
      "execution_count": null,
      "outputs": []
    },
    {
      "cell_type": "markdown",
      "source": [
        "Entrenar el modelo"
      ],
      "metadata": {
        "id": "ena6r7QnhF9u"
      }
    },
    {
      "cell_type": "code",
      "source": [
        "#Importar el Random Forest Regressor \n",
        "from sklearn.ensemble import RandomForestRegressor   \n",
        "  \n",
        "#Crear un objeto del tipo Random Forest regressor \n",
        "RFReg = RandomForestRegressor(n_estimators = 100, random_state = 0)\n",
        "  \n",
        "#Ajustar el Random Forest regressor con datos de entrenamiento representados por x_train y y_train\n",
        "RFReg.fit(x_train, y_train)"
      ],
      "metadata": {
        "colab": {
          "base_uri": "https://localhost:8080/"
        },
        "id": "IytcZBGfIfG0",
        "outputId": "2648561b-dacd-4bad-9e9f-c64b8a415344"
      },
      "execution_count": null,
      "outputs": [
        {
          "output_type": "execute_result",
          "data": {
            "text/plain": [
              "RandomForestRegressor(random_state=0)"
            ]
          },
          "metadata": {},
          "execution_count": 10
        }
      ]
    },
    {
      "cell_type": "code",
      "source": [
        "#Obtener las últimas filas 'x' del conjunto de datos futuros\n",
        "x_future = df.drop(['Prediction'],1)[:-future_days]\n",
        "x_future = x_future.tail(future_days)\n",
        "x_future = np.array(x_future)"
      ],
      "metadata": {
        "id": "_zh2BDtrI8NO"
      },
      "execution_count": null,
      "outputs": []
    },
    {
      "cell_type": "code",
      "source": [
        "#Altura prevista del dataset de testeo\n",
        "random_forest_regressor = RFReg.predict((x_future))\n",
        "print(random_forest_regressor)"
      ],
      "metadata": {
        "colab": {
          "base_uri": "https://localhost:8080/"
        },
        "id": "VkLepF7EJP6M",
        "outputId": "546197a1-7f3e-4d49-8e1c-abd5a1d560bc"
      },
      "execution_count": null,
      "outputs": [
        {
          "output_type": "stream",
          "name": "stdout",
          "text": [
            "[182.28610067 179.90019879 184.36749542 184.19140205 181.04699741\n",
            " 178.49950254 181.04699741 181.81080121 175.21639656 180.79920071\n",
            " 165.22395034 180.06570035 180.56379909 177.79849999 175.13699653\n",
            " 171.81189695 164.38330142 173.60969565 175.21639656 172.85429722\n",
            " 157.22519632 151.364201   174.54446378 176.29430308 176.29430308\n",
            " 176.09070337 173.90840456 173.34810485 173.82910178 174.0446054\n",
            " 169.63140031 169.92051322 171.89980285 166.44819618 165.35239874\n",
            " 174.59980544 154.48009657 165.40310069 174.33180469 166.34710605\n",
            " 166.42589881 168.22649909 164.19040014 162.86970137 162.76900471\n",
            " 163.51000431 173.97160311 174.28459766 166.14330744 160.43690406\n",
            " 158.08799485 151.364201   166.42589881 164.09480036 161.71950004\n",
            " 160.16100146 152.56059758 174.54446378 154.58049946 154.58049946\n",
            " 149.97449581 179.85569809 160.34461068 153.56355034 161.69419617\n",
            " 158.71129743 153.69529878 153.82780005 157.68830487 159.4285047\n",
            " 174.00170375 158.68659724 152.87499881 167.99791937 151.364201\n",
            " 158.23810425 160.24870286 153.8055022  160.99400324 155.20569693\n",
            " 153.94299614 155.46119553 152.02119746 159.62079731 159.7609971\n",
            " 160.70920253 167.99791937 164.04720002 162.73200474 158.3601499\n",
            " 159.4285047  158.09949966 159.99849994 153.06140253 169.63140031\n",
            " 166.81639492 167.52589474 153.20890451 143.36454704 153.22029962]\n"
          ]
        }
      ]
    },
    {
      "cell_type": "code",
      "source": [
        "# Visualizar la data\n",
        "predictions = random_forest_regressor\n",
        "\n",
        "valid = df[X.shape[0]:]\n",
        "valid['Predictions']=predictions\n",
        "plt.figure(figsize=(16,8))\n",
        "plt.title('Random Forest Regressor')\n",
        "plt.xlabel('Days')\n",
        "plt.ylabel('Close Price USD($)')\n",
        "plt.plot(df['Close'])\n",
        "plt.plot(valid[['Close','Predictions']])\n",
        "plt.legend(['Original Data','Valid Data', 'Predicted Data'])\n",
        "plt.show()"
      ],
      "metadata": {
        "colab": {
          "base_uri": "https://localhost:8080/",
          "height": 617
        },
        "id": "xdfgRr9yK-ll",
        "outputId": "556397de-00ff-4ea9-b945-f0f0924a8cf8"
      },
      "execution_count": null,
      "outputs": [
        {
          "output_type": "stream",
          "name": "stderr",
          "text": [
            "/usr/local/lib/python3.7/dist-packages/ipykernel_launcher.py:5: SettingWithCopyWarning: \n",
            "A value is trying to be set on a copy of a slice from a DataFrame.\n",
            "Try using .loc[row_indexer,col_indexer] = value instead\n",
            "\n",
            "See the caveats in the documentation: https://pandas.pydata.org/pandas-docs/stable/user_guide/indexing.html#returning-a-view-versus-a-copy\n",
            "  \"\"\"\n"
          ]
        },
        {
          "output_type": "display_data",
          "data": {
            "image/png": "[encoded data removed]",
            "text/plain": [
              "<Figure size 1152x576 with 1 Axes>"
            ]
          },
          "metadata": {
            "needs_background": "light"
          }
        }
      ]
    }
  ]
}